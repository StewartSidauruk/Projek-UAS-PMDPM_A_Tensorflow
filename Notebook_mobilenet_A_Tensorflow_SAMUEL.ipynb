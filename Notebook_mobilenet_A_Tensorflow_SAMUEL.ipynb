{
  "cells": [
    {
      "cell_type": "markdown",
      "metadata": {
        "id": "krpkOlRfUg0s"
      },
      "source": [
        "# Octavionus Samuel Kusuma Wardana, 220711661, TensorFlow, topik studi kasus, MobileNet\n"
      ]
    },
    {
      "cell_type": "markdown",
      "metadata": {
        "id": "kD4hk-JeUg0t"
      },
      "source": [
        "## MobileNet"
      ]
    },
    {
      "cell_type": "markdown",
      "metadata": {
        "id": "c08nZsyIUg0u"
      },
      "source": [
        "### Import Library\n",
        "- Tahap pertama adalah import seluruh library yang dibutuhkan\n"
      ]
    },
    {
      "cell_type": "code",
      "execution_count": 1,
      "metadata": {
        "id": "RtI-PLU4Ug0u"
      },
      "outputs": [],
      "source": [
        "#Import library\n",
        "import os\n",
        "import numpy as np\n",
        "\n",
        "#Import library tensorflow dan modul keras yang diperlukan\n",
        "import tensorflow as tf\n",
        "from tensorflow.keras import layers\n",
        "from tensorflow.keras.preprocessing.image import load_img, ImageDataGenerator\n",
        "from tensorflow.keras.models import Sequential, load_model\n",
        "from tensorflow.keras.layers import Conv2D, MaxPooling2D, Dense, Dropout, Flatten\n",
        "\n",
        "#Penjelasan\n",
        "# layers digunakan untuk menambahkan lapisan ke dalam model\n",
        "# load_img digunakan untuk memuat gambar\n",
        "# ImageDataGenerator digunakan untuk melakukan augmentasi pada gambar\n",
        "# Sequential digunakan untuk membuat model secara berurutan\n",
        "# Conv2D digunakan untuk membuat lapisan konvolusi\n",
        "# MaxPooling2D digunakan untuk melakukan pooling pada lapisan konvolusi\n",
        "# Dense digunakan untuk membuat lapisan fully connected\n",
        "# Dropout digunakan untuk menghindari overfitting\n",
        "# Flatten digunakan untuk membuat lapisan menjadi flat (rata) menjadi vektor 1 dimensi\n"
      ]
    },
    {
      "cell_type": "markdown",
      "metadata": {
        "id": "MLqoU5S2Ug0v"
      },
      "source": [
        "### Load Data\n",
        "- Load dataset berdasarkan path dimana dataset disimpan"
      ]
    },
    {
      "cell_type": "code",
      "execution_count": 2,
      "metadata": {
        "colab": {
          "base_uri": "https://localhost:8080/"
        },
        "id": "2_dQz3BBUg0w",
        "outputId": "78c9b33e-ae69-4e4f-9318-307bf1c79f63"
      },
      "outputs": [
        {
          "name": "stdout",
          "output_type": "stream",
          "text": [
            "BlackBerry Folder has 100 Images\n",
            "Blueberry Folder has 100 Images\n",
            "strawberry Folder has 100 Images\n",
            "Images Folder has 300 Images\n"
          ]
        }
      ],
      "source": [
        "count = 0 #digunakan untuk menghitung jumlah gambar\n",
        "dirs = os.listdir(r'C:\\Users\\stewa\\Downloads\\UAS\\train_data')\n",
        "for dir in dirs:\n",
        "    files = list(os.listdir(r'C:\\Users\\stewa\\Downloads\\UAS\\train_data/'+dir))\n",
        "    print(dir + ' Folder has ' + str(len(files)) + ' Images')\n",
        "    count = count + len(files)\n",
        "print('Images Folder has ' + str(count) + ' Images')"
      ]
    },
    {
      "cell_type": "markdown",
      "metadata": {
        "id": "kNDzlk-6Ug0w"
      },
      "source": [
        "### Load Images into Arrays as Dataset\n",
        "- Membuat dataset dari gambar yang ada di direktori"
      ]
    },
    {
      "cell_type": "code",
      "execution_count": 3,
      "metadata": {
        "id": "1mny7QXzUg0w"
      },
      "outputs": [],
      "source": [
        "# # Parameter\n",
        "# base_dir = r'train_data_2' #direktori folder dataset\n",
        "# img_size = 180 #mengubah ukuran gambar menjadi 180\n",
        "# batch = 32 #jumlah sample (gambar) yang akan diproses pada satu kali iterasi\n",
        "# validation_split = 0.1 #data pelatihan yang akan digunakan sebagai data validasi"
      ]
    },
    {
      "cell_type": "code",
      "execution_count": 4,
      "metadata": {
        "id": "5zywKoCCUg0x"
      },
      "outputs": [],
      "source": [
        "# Parameter\n",
        "base_dir = r'C:\\Users\\stewa\\Downloads\\UAS\\train_data' #direktori folder dataset\n",
        "img_size = 180 #mengubah ukuran gambar menjadi 180\n",
        "batch = 1 #jumlah sample (gambar) yang akan diproses pada satu kali iterasi\n",
        "validation_split = 0.1 #data pelatihan yang akan digunakan sebagai data validasi"
      ]
    },
    {
      "cell_type": "markdown",
      "metadata": {
        "id": "68dRAOFpUg0x"
      },
      "source": [
        "- Memasukkan parameter yang telah di definisikan tadi untuk membuat dataset dari gambar di direktori\n"
      ]
    },
    {
      "cell_type": "code",
      "execution_count": 5,
      "metadata": {
        "colab": {
          "base_uri": "https://localhost:8080/"
        },
        "id": "7OE_rrthUg0x",
        "outputId": "b59e037c-eab6-48cc-c090-427a6ca83724"
      },
      "outputs": [
        {
          "name": "stdout",
          "output_type": "stream",
          "text": [
            "Found 300 files belonging to 3 classes.\n"
          ]
        }
      ],
      "source": [
        "dataset = tf.keras.utils.image_dataset_from_directory(\n",
        "    base_dir, #path direktori, subfolder dianggap sebagai label\n",
        "    seed=123, #untuk memastikan proses pemisahan data selalu konsisten (random_state)\n",
        "    image_size=(img_size, img_size), #ukuran gambar diubah (resize) menjadi 180x180 pixel\n",
        "    batch_size=batch, #jumlah gambar yang akan dikelompokkan\n",
        ")"
      ]
    },
    {
      "cell_type": "code",
      "execution_count": 6,
      "metadata": {
        "colab": {
          "base_uri": "https://localhost:8080/"
        },
        "id": "tDiOt8CEUg0x",
        "outputId": "8d27b143-25cd-4d0a-8df5-58064153cd87"
      },
      "outputs": [
        {
          "name": "stdout",
          "output_type": "stream",
          "text": [
            "Class Names: ['BlackBerry', 'Blueberry', 'strawberry']\n"
          ]
        }
      ],
      "source": [
        "#mendapatkan nama kelas dari dataset\n",
        "class_names = dataset.class_names #dataset.class_names akan mengambil daftar nama kelas berdasarkan subfolder di dalam direktori\n",
        "print(\"Class Names:\", class_names)"
      ]
    },
    {
      "cell_type": "markdown",
      "metadata": {
        "id": "DGfMNjtMUg0y"
      },
      "source": [
        "### Train-Validation-Test Split\n",
        "- Membagi dataset menjadi tiga subset yaitu train, validation, dan test\n",
        "    - Train, digunakan untuk melatih model agar mengenali pola dalam data\n",
        "    - Validation, digunakan untuk mengevaluasi performa model selama pelatihan\n",
        "    - Test, digunakan untuk menguji model setelah pelatihan"
      ]
    },
    {
      "cell_type": "code",
      "execution_count": 7,
      "metadata": {
        "id": "UKLJHHBOUg0y"
      },
      "outputs": [],
      "source": [
        "# ###Terdapat code yang hilang disini! lihat modul untuk menemukanya menghitung jumlah gambar untuk train\n",
        "\n",
        "# total_count = len(dataset)\n",
        "# val_count = int(total_count * validation_split)\n",
        "# train_count = total_count - val_count\n",
        "\n",
        "# print(\"Total Images:\", total_count)\n",
        "# print(\"Train Images:\", train_count)\n",
        "# print(\"Validation Images:\", val_count)"
      ]
    },
    {
      "cell_type": "code",
      "execution_count": 8,
      "metadata": {
        "colab": {
          "base_uri": "https://localhost:8080/"
        },
        "id": "OCkUqsgeUg0y",
        "outputId": "72e37c2d-e846-4cfe-8b1b-c2f47f630e1a"
      },
      "outputs": [
        {
          "name": "stdout",
          "output_type": "stream",
          "text": [
            "Total Images: 300\n",
            "Train Images: 270\n",
            "Validation Images: 30\n"
          ]
        }
      ],
      "source": [
        "###Terdapat code yang hilang disini! lihat modul untuk menemukanya menghitung jumlah gambar untuk train\n",
        "\n",
        "total_count = len(dataset)\n",
        "val_count = int(total_count * validation_split)\n",
        "train_count = total_count - val_count\n",
        "\n",
        "print(\"Total Images:\", total_count)\n",
        "print(\"Train Images:\", train_count)\n",
        "print(\"Validation Images:\", val_count)"
      ]
    },
    {
      "cell_type": "code",
      "execution_count": 9,
      "metadata": {
        "id": "93dVQIznUg0y"
      },
      "outputs": [],
      "source": [
        "###Terdapat code yang hilang disini! lihat modul untuk menemukanya\n",
        "#Cell ini untuk membagi dataset bang\n",
        "\n",
        "train_ds = dataset.take(train_count)\n",
        "val_ds = dataset.skip(train_count)"
      ]
    },
    {
      "cell_type": "code",
      "execution_count": 10,
      "metadata": {
        "colab": {
          "base_uri": "https://localhost:8080/"
        },
        "id": "yxnYxYDlUg0y",
        "outputId": "dd770351-d157-40bb-cc44-c74fec57c988"
      },
      "outputs": [
        {
          "name": "stdout",
          "output_type": "stream",
          "text": [
            "Shape of images: (1, 180, 180, 3)\n",
            "Shape of labels: (1,)\n",
            "(1, 180, 180, 3)\n"
          ]
        }
      ],
      "source": [
        "for images, labels in train_ds.take(1):  # Ambil 1 batch untuk diperiksa\n",
        "    print(\"Shape of images:\", images.shape)\n",
        "    print(\"Shape of labels:\", labels.shape)\n",
        "\n",
        "    images_array = np.array(images)\n",
        "    print(images_array.shape)"
      ]
    },
    {
      "cell_type": "code",
      "execution_count": 11,
      "metadata": {
        "id": "vgVkIUFdUg0z"
      },
      "outputs": [],
      "source": [
        "import matplotlib.pyplot as plt\n",
        "\n",
        "# i = 0\n",
        "# plt.figure(figsize=(10,10)) #membuat figure dengan ukuran 10x10 inchi untuk menampilkan gambar\n",
        "\n",
        "# ###Terdapat code yang hilang disini! lihat modul untuk menemukanya\n",
        "# for images, labels in train_ds.take(1):\n",
        "#     for i in range(9): #mengambil 1 batch pertama dari train_ds\n",
        "#         plt.subplot(3,3, i+1) #menyiapkan subplot dengan grid 3x3 dan menempatkan gambar pada posisi i+1\n",
        "#         plt.imshow(images[i].numpy().astype('uint8')) #menampilkan gambar dan mengonversi ke tipe uint8\n",
        "#         plt.title(class_names[labels[i]]) #menampilkan judul gambar sesuai dengan nama kelas\n",
        "#         plt.axis('off') #menonaktifkan sumbu pada gambar agar tidak terlihat"
      ]
    },
    {
      "cell_type": "code",
      "execution_count": 12,
      "metadata": {
        "colab": {
          "base_uri": "https://localhost:8080/"
        },
        "id": "5Oiwd6BBUg0z",
        "outputId": "9f70c7bd-23a2-4541-d5eb-e7f0b74da591"
      },
      "outputs": [
        {
          "name": "stdout",
          "output_type": "stream",
          "text": [
            "(1, 180, 180, 3)\n"
          ]
        }
      ],
      "source": [
        "import numpy as np\n",
        "\n",
        "# Tampilkan gambar dengan shape (32, 180, 180, 3)\n",
        "for images, labels in train_ds.take(1):\n",
        "    images_array = np.array(images)\n",
        "    print(images_array.shape)  # Output: (32, 180, 180, 3)\n",
        "    #32: Jumlah gambar dalam batch.\n",
        "    #180: Lebar gambar dalam piksel\n",
        "    #180: Tinggi gambar dalam piksel\n",
        "    #3: Jumlah channel gambar (RGB)"
      ]
    },
    {
      "cell_type": "code",
      "execution_count": 13,
      "metadata": {
        "id": "ncaZtuk7Ug0z"
      },
      "outputs": [],
      "source": [
        "#Mengatur AUTOTUNE untuk pemrosesan data otomatis oleh tensorflow\n",
        "#AUTOTUNE digunakan untuk memungkinkan tensorflow mengoptimalkan jumlah thread secara otomatis saat memproses data\n",
        "AUTOTUNE = tf.data.AUTOTUNE"
      ]
    },
    {
      "cell_type": "code",
      "execution_count": 14,
      "metadata": {
        "id": "ful9R7reUg0z"
      },
      "outputs": [],
      "source": [
        "#mengoptimalkan dataset pelatihan (train_ds)\n",
        "train_ds = train_ds.cache().shuffle(1000).prefetch(buffer_size = AUTOTUNE)\n",
        "#cache digunakan untuk menyimpan dataser di memori agar lebih cepat diakses\n",
        "#shuffle mengacak data dalam batch agar model tidak terlalu terlatih pada urutan tertentu\n",
        "#prefetch untuk menyiapkan data batch berikutnya secara otomatis"
      ]
    },
    {
      "cell_type": "code",
      "execution_count": 15,
      "metadata": {
        "id": "JRcRhMH3Ug0z"
      },
      "outputs": [],
      "source": [
        "#mengoptimalkan dataset validasi (val_ds)\n",
        "val_ds = val_ds.cache().shuffle(1000).prefetch(buffer_size = AUTOTUNE)"
      ]
    },
    {
      "cell_type": "markdown",
      "metadata": {
        "id": "IY7cUEX5Ug0z"
      },
      "source": [
        "### Data Augmentation\n",
        "- Digunakan untuk menambah variasi data pelatihan dengan membuat gambar baru dari yang sudah ada seperti dengan rotasi, flipping, zooming, dan sebagainy\n",
        "- Untuk mengurangi overfitting dan memperbesar dataset tanpa mengumpulkan data baru"
      ]
    },
    {
      "cell_type": "code",
      "execution_count": 16,
      "metadata": {
        "colab": {
          "base_uri": "https://localhost:8080/"
        },
        "id": "Ct1t8R6pUg0z",
        "outputId": "c38e4a51-f30c-4e0e-a96a-6eabf4af71e8"
      },
      "outputs": [
        {
          "name": "stderr",
          "output_type": "stream",
          "text": [
            "c:\\Users\\stewa\\anaconda3\\Lib\\site-packages\\keras\\src\\layers\\preprocessing\\tf_data_layer.py:19: UserWarning: Do not pass an `input_shape`/`input_dim` argument to a layer. When using Sequential models, prefer using an `Input(shape)` object as the first layer in the model instead.\n",
            "  super().__init__(**kwargs)\n"
          ]
        }
      ],
      "source": [
        "data_augmentation = Sequential([\n",
        "    layers.RandomFlip(\"horizontal\", input_shape = (img_size,img_size,3)), #membalik gambar secara horizontal\n",
        "    layers.RandomRotation(0.1), #merotasi gambar secara acak dalam kisaran 0°-36° (0.1 * 360)\n",
        "    layers.RandomZoom(0.1) #melakukan zoom in/zoom out secara acak dengan rentang 10%\n",
        "])"
      ]
    },
    {
      "cell_type": "code",
      "execution_count": 17,
      "metadata": {
        "id": "xFXAYTxmUg00"
      },
      "outputs": [],
      "source": [
        "# #sama seperti sebelumnya, code ini digunakan untuk menampilkan gambar dari data_augmentation\n",
        "# i = 0\n",
        "# plt.figure(figsize=(10,10))\n",
        "\n",
        "# for images, labels in train_ds.take(1):\n",
        "#     for i in range(9):\n",
        "#         images = data_augmentation(images)\n",
        "#         plt.subplot(3,3, i+1)\n",
        "#         plt.imshow(images[0].numpy().astype('uint8'))\n",
        "#         plt.axis('off')"
      ]
    },
    {
      "cell_type": "markdown",
      "metadata": {
        "id": "3meTXzsfUg00"
      },
      "source": [
        "### MobileNet\n",
        "- Salah satu algoritma yang dirancang untuk perangkat dengan keterbatasan sumber daya seperti smartphone"
      ]
    },
    {
      "cell_type": "code",
      "execution_count": 18,
      "metadata": {
        "id": "94O-ytdiUg00"
      },
      "outputs": [],
      "source": [
        "# #import library yang dibutuhkan\n",
        "# from tensorflow.keras.applications import MobileNet #digunakan untuk memanfaatkan model yang sudah dilatih sebelumnya untuk pengenalan gambar\n",
        "# from tensorflow.keras.models import Model #digunakan untuk membuat dan mengonfigurasi arsitektur model\n",
        "\n",
        "# #membuat model dengan bobot yang telah dilatih sebelumnya\n",
        "# #include_top=False berarti tidak menggunakan lapisan klasifikasi dari mobilenet hanya bagian ekstraksi fitur\n",
        "# base_model = MobileNet(include_top=False, input_shape=(img_size, img_size, 3))\n",
        "\n",
        "# #membuka (unfreeze beberapa lapisan untuk proses fine tuning)\n",
        "# base_model.trainable = True #seluruh model bisa dilatih\n",
        "# fine_tune_at = len(base_model.layers) // 2  #menentukan bahwa setengah lapisan terakhir akan di unfreeze\n",
        "# for layer in base_model.layers[:fine_tune_at]:\n",
        "#     layer.trainable = False #mengunci (freeze) lapisan pertama hingga setengah bagian pertama agar tidak dilatih kembali\n",
        "\n",
        "# #membuat model akhir dengan lapisan tambahan //////////////////////////////////////////////////////////////////////////////////////////////////////////\n",
        "# ###Terdapat code yang hilang disini! lihat modul untuk menemukanya\n",
        "\n",
        "# model = Sequential([\n",
        "#     data_augmentation, #data augmentasi untuk memperbanyak data latih\n",
        "#     layers.Rescaling(1./255), #menormalisasi gambar, mengubah nilai pixel dari rentang [0, 255] menjadi [0, 1]\n",
        "#     base_model, #mobileNet sebagai dasar ekstraksi fitur\n",
        "#     layers.GlobalAveragePooling2D(), #Lapisan pooling untuk meratakan hasil fitur dan mengurangi dimensi\n",
        "#     Dense(128, activation='relu'), #lapisan dense dengan 128 neuron dan aktivasi relu untuk pembelajaran non Linear\n",
        "#     Dropout(0.3), #dropout dengan 30% neuron yang dihilangkan secara acak selama pelatihan\n",
        "#     Dense(len(class_names), activation='softmax') #lapisan output dengan jumlah neuron sesuai dengan jumlah kelas yang ingin diprediksi\n",
        "#                                                   #aktivasi softmax untuk klasifikasi multi kelas\n",
        "# ])\n"
      ]
    },
    {
      "cell_type": "code",
      "execution_count": 19,
      "metadata": {
        "id": "sf4VhwmejJcG"
      },
      "outputs": [],
      "source": [
        "#import library yang dibutuhkan\n",
        "from tensorflow.keras.models import Sequential\n",
        "from tensorflow.keras.layers import Conv2D, MaxPooling2D, Dense, Dropout, Flatten, GlobalAveragePooling2D\n",
        "from tensorflow.keras import layers\n",
        "\n",
        "# Membuat model CNN dari awal\n",
        "model = Sequential([\n",
        "    data_augmentation,  # Data augmentasi\n",
        "    layers.Rescaling(1./255, input_shape=(img_size, img_size, 3)),  # Normalisasi\n",
        "\n",
        "    # Blok pertama: Convolution + Pooling\n",
        "    Conv2D(32, (3, 3), activation='relu', padding='same'),\n",
        "    MaxPooling2D((2, 2)),\n",
        "\n",
        "    # Blok kedua: Convolution + Pooling\n",
        "    Conv2D(64, (3, 3), activation='relu', padding='same'),\n",
        "    MaxPooling2D((2, 2)),\n",
        "\n",
        "    # Blok ketiga: Convolution + Pooling\n",
        "    Conv2D(128, (3, 3), activation='relu', padding='same'),\n",
        "    MaxPooling2D((2, 2)),\n",
        "\n",
        "    # Global pooling\n",
        "    layers.GlobalAveragePooling2D(),\n",
        "\n",
        "    # Fully connected layer\n",
        "    Dense(128, activation='relu'),\n",
        "    Dropout(0.3),  # Dropout\n",
        "\n",
        "    # Output layer\n",
        "    Dense(len(class_names), activation='softmax')  # Output layer\n",
        "])\n"
      ]
    },
    {
      "cell_type": "code",
      "execution_count": 20,
      "metadata": {
        "id": "2lkYiqB3Ug00"
      },
      "outputs": [],
      "source": [
        "from tensorflow.keras.optimizers import Adam #untuk mengoptimalkan proses pelatihan model\n",
        "\n",
        "#mengkompilasi model dengan optimizer, loss function, dan metrics\n",
        "model.compile(\n",
        "    optimizer=Adam(learning_rate=1e-4), #menggunakan optimizer Adam dengan learning rate 0.0001\n",
        "    loss='sparse_categorical_crossentropy', #untuk klasifikasi multi-kelas\n",
        "    metrics=['accuracy'] #akurasi digunakan sebagai metrik evaluasi\n",
        ")\n"
      ]
    },
    {
      "cell_type": "code",
      "execution_count": 21,
      "metadata": {
        "colab": {
          "base_uri": "https://localhost:8080/",
          "height": 529
        },
        "id": "pCORszApUg00",
        "outputId": "baa4a959-048f-4637-93f8-9f1d516e767e",
        "scrolled": true
      },
      "outputs": [
        {
          "data": {
            "text/html": [
              "<pre style=\"white-space:pre;overflow-x:auto;line-height:normal;font-family:Menlo,'DejaVu Sans Mono',consolas,'Courier New',monospace\"><span style=\"font-weight: bold\">Model: \"sequential_1\"</span>\n",
              "</pre>\n"
            ],
            "text/plain": [
              "\u001b[1mModel: \"sequential_1\"\u001b[0m\n"
            ]
          },
          "metadata": {},
          "output_type": "display_data"
        },
        {
          "data": {
            "text/html": [
              "<pre style=\"white-space:pre;overflow-x:auto;line-height:normal;font-family:Menlo,'DejaVu Sans Mono',consolas,'Courier New',monospace\">┏━━━━━━━━━━━━━━━━━━━━━━━━━━━━━━━━━┳━━━━━━━━━━━━━━━━━━━━━━━━┳━━━━━━━━━━━━━━━┓\n",
              "┃<span style=\"font-weight: bold\"> Layer (type)                    </span>┃<span style=\"font-weight: bold\"> Output Shape           </span>┃<span style=\"font-weight: bold\">       Param # </span>┃\n",
              "┡━━━━━━━━━━━━━━━━━━━━━━━━━━━━━━━━━╇━━━━━━━━━━━━━━━━━━━━━━━━╇━━━━━━━━━━━━━━━┩\n",
              "│ sequential (<span style=\"color: #0087ff; text-decoration-color: #0087ff\">Sequential</span>)         │ (<span style=\"color: #00d7ff; text-decoration-color: #00d7ff\">None</span>, <span style=\"color: #00af00; text-decoration-color: #00af00\">180</span>, <span style=\"color: #00af00; text-decoration-color: #00af00\">180</span>, <span style=\"color: #00af00; text-decoration-color: #00af00\">3</span>)    │             <span style=\"color: #00af00; text-decoration-color: #00af00\">0</span> │\n",
              "├─────────────────────────────────┼────────────────────────┼───────────────┤\n",
              "│ rescaling (<span style=\"color: #0087ff; text-decoration-color: #0087ff\">Rescaling</span>)           │ (<span style=\"color: #00d7ff; text-decoration-color: #00d7ff\">None</span>, <span style=\"color: #00af00; text-decoration-color: #00af00\">180</span>, <span style=\"color: #00af00; text-decoration-color: #00af00\">180</span>, <span style=\"color: #00af00; text-decoration-color: #00af00\">3</span>)    │             <span style=\"color: #00af00; text-decoration-color: #00af00\">0</span> │\n",
              "├─────────────────────────────────┼────────────────────────┼───────────────┤\n",
              "│ conv2d (<span style=\"color: #0087ff; text-decoration-color: #0087ff\">Conv2D</span>)                 │ (<span style=\"color: #00d7ff; text-decoration-color: #00d7ff\">None</span>, <span style=\"color: #00af00; text-decoration-color: #00af00\">180</span>, <span style=\"color: #00af00; text-decoration-color: #00af00\">180</span>, <span style=\"color: #00af00; text-decoration-color: #00af00\">32</span>)   │           <span style=\"color: #00af00; text-decoration-color: #00af00\">896</span> │\n",
              "├─────────────────────────────────┼────────────────────────┼───────────────┤\n",
              "│ max_pooling2d (<span style=\"color: #0087ff; text-decoration-color: #0087ff\">MaxPooling2D</span>)    │ (<span style=\"color: #00d7ff; text-decoration-color: #00d7ff\">None</span>, <span style=\"color: #00af00; text-decoration-color: #00af00\">90</span>, <span style=\"color: #00af00; text-decoration-color: #00af00\">90</span>, <span style=\"color: #00af00; text-decoration-color: #00af00\">32</span>)     │             <span style=\"color: #00af00; text-decoration-color: #00af00\">0</span> │\n",
              "├─────────────────────────────────┼────────────────────────┼───────────────┤\n",
              "│ conv2d_1 (<span style=\"color: #0087ff; text-decoration-color: #0087ff\">Conv2D</span>)               │ (<span style=\"color: #00d7ff; text-decoration-color: #00d7ff\">None</span>, <span style=\"color: #00af00; text-decoration-color: #00af00\">90</span>, <span style=\"color: #00af00; text-decoration-color: #00af00\">90</span>, <span style=\"color: #00af00; text-decoration-color: #00af00\">64</span>)     │        <span style=\"color: #00af00; text-decoration-color: #00af00\">18,496</span> │\n",
              "├─────────────────────────────────┼────────────────────────┼───────────────┤\n",
              "│ max_pooling2d_1 (<span style=\"color: #0087ff; text-decoration-color: #0087ff\">MaxPooling2D</span>)  │ (<span style=\"color: #00d7ff; text-decoration-color: #00d7ff\">None</span>, <span style=\"color: #00af00; text-decoration-color: #00af00\">45</span>, <span style=\"color: #00af00; text-decoration-color: #00af00\">45</span>, <span style=\"color: #00af00; text-decoration-color: #00af00\">64</span>)     │             <span style=\"color: #00af00; text-decoration-color: #00af00\">0</span> │\n",
              "├─────────────────────────────────┼────────────────────────┼───────────────┤\n",
              "│ conv2d_2 (<span style=\"color: #0087ff; text-decoration-color: #0087ff\">Conv2D</span>)               │ (<span style=\"color: #00d7ff; text-decoration-color: #00d7ff\">None</span>, <span style=\"color: #00af00; text-decoration-color: #00af00\">45</span>, <span style=\"color: #00af00; text-decoration-color: #00af00\">45</span>, <span style=\"color: #00af00; text-decoration-color: #00af00\">128</span>)    │        <span style=\"color: #00af00; text-decoration-color: #00af00\">73,856</span> │\n",
              "├─────────────────────────────────┼────────────────────────┼───────────────┤\n",
              "│ max_pooling2d_2 (<span style=\"color: #0087ff; text-decoration-color: #0087ff\">MaxPooling2D</span>)  │ (<span style=\"color: #00d7ff; text-decoration-color: #00d7ff\">None</span>, <span style=\"color: #00af00; text-decoration-color: #00af00\">22</span>, <span style=\"color: #00af00; text-decoration-color: #00af00\">22</span>, <span style=\"color: #00af00; text-decoration-color: #00af00\">128</span>)    │             <span style=\"color: #00af00; text-decoration-color: #00af00\">0</span> │\n",
              "├─────────────────────────────────┼────────────────────────┼───────────────┤\n",
              "│ global_average_pooling2d        │ (<span style=\"color: #00d7ff; text-decoration-color: #00d7ff\">None</span>, <span style=\"color: #00af00; text-decoration-color: #00af00\">128</span>)            │             <span style=\"color: #00af00; text-decoration-color: #00af00\">0</span> │\n",
              "│ (<span style=\"color: #0087ff; text-decoration-color: #0087ff\">GlobalAveragePooling2D</span>)        │                        │               │\n",
              "├─────────────────────────────────┼────────────────────────┼───────────────┤\n",
              "│ dense (<span style=\"color: #0087ff; text-decoration-color: #0087ff\">Dense</span>)                   │ (<span style=\"color: #00d7ff; text-decoration-color: #00d7ff\">None</span>, <span style=\"color: #00af00; text-decoration-color: #00af00\">128</span>)            │        <span style=\"color: #00af00; text-decoration-color: #00af00\">16,512</span> │\n",
              "├─────────────────────────────────┼────────────────────────┼───────────────┤\n",
              "│ dropout (<span style=\"color: #0087ff; text-decoration-color: #0087ff\">Dropout</span>)               │ (<span style=\"color: #00d7ff; text-decoration-color: #00d7ff\">None</span>, <span style=\"color: #00af00; text-decoration-color: #00af00\">128</span>)            │             <span style=\"color: #00af00; text-decoration-color: #00af00\">0</span> │\n",
              "├─────────────────────────────────┼────────────────────────┼───────────────┤\n",
              "│ dense_1 (<span style=\"color: #0087ff; text-decoration-color: #0087ff\">Dense</span>)                 │ (<span style=\"color: #00d7ff; text-decoration-color: #00d7ff\">None</span>, <span style=\"color: #00af00; text-decoration-color: #00af00\">3</span>)              │           <span style=\"color: #00af00; text-decoration-color: #00af00\">387</span> │\n",
              "└─────────────────────────────────┴────────────────────────┴───────────────┘\n",
              "</pre>\n"
            ],
            "text/plain": [
              "┏━━━━━━━━━━━━━━━━━━━━━━━━━━━━━━━━━┳━━━━━━━━━━━━━━━━━━━━━━━━┳━━━━━━━━━━━━━━━┓\n",
              "┃\u001b[1m \u001b[0m\u001b[1mLayer (type)                   \u001b[0m\u001b[1m \u001b[0m┃\u001b[1m \u001b[0m\u001b[1mOutput Shape          \u001b[0m\u001b[1m \u001b[0m┃\u001b[1m \u001b[0m\u001b[1m      Param #\u001b[0m\u001b[1m \u001b[0m┃\n",
              "┡━━━━━━━━━━━━━━━━━━━━━━━━━━━━━━━━━╇━━━━━━━━━━━━━━━━━━━━━━━━╇━━━━━━━━━━━━━━━┩\n",
              "│ sequential (\u001b[38;5;33mSequential\u001b[0m)         │ (\u001b[38;5;45mNone\u001b[0m, \u001b[38;5;34m180\u001b[0m, \u001b[38;5;34m180\u001b[0m, \u001b[38;5;34m3\u001b[0m)    │             \u001b[38;5;34m0\u001b[0m │\n",
              "├─────────────────────────────────┼────────────────────────┼───────────────┤\n",
              "│ rescaling (\u001b[38;5;33mRescaling\u001b[0m)           │ (\u001b[38;5;45mNone\u001b[0m, \u001b[38;5;34m180\u001b[0m, \u001b[38;5;34m180\u001b[0m, \u001b[38;5;34m3\u001b[0m)    │             \u001b[38;5;34m0\u001b[0m │\n",
              "├─────────────────────────────────┼────────────────────────┼───────────────┤\n",
              "│ conv2d (\u001b[38;5;33mConv2D\u001b[0m)                 │ (\u001b[38;5;45mNone\u001b[0m, \u001b[38;5;34m180\u001b[0m, \u001b[38;5;34m180\u001b[0m, \u001b[38;5;34m32\u001b[0m)   │           \u001b[38;5;34m896\u001b[0m │\n",
              "├─────────────────────────────────┼────────────────────────┼───────────────┤\n",
              "│ max_pooling2d (\u001b[38;5;33mMaxPooling2D\u001b[0m)    │ (\u001b[38;5;45mNone\u001b[0m, \u001b[38;5;34m90\u001b[0m, \u001b[38;5;34m90\u001b[0m, \u001b[38;5;34m32\u001b[0m)     │             \u001b[38;5;34m0\u001b[0m │\n",
              "├─────────────────────────────────┼────────────────────────┼───────────────┤\n",
              "│ conv2d_1 (\u001b[38;5;33mConv2D\u001b[0m)               │ (\u001b[38;5;45mNone\u001b[0m, \u001b[38;5;34m90\u001b[0m, \u001b[38;5;34m90\u001b[0m, \u001b[38;5;34m64\u001b[0m)     │        \u001b[38;5;34m18,496\u001b[0m │\n",
              "├─────────────────────────────────┼────────────────────────┼───────────────┤\n",
              "│ max_pooling2d_1 (\u001b[38;5;33mMaxPooling2D\u001b[0m)  │ (\u001b[38;5;45mNone\u001b[0m, \u001b[38;5;34m45\u001b[0m, \u001b[38;5;34m45\u001b[0m, \u001b[38;5;34m64\u001b[0m)     │             \u001b[38;5;34m0\u001b[0m │\n",
              "├─────────────────────────────────┼────────────────────────┼───────────────┤\n",
              "│ conv2d_2 (\u001b[38;5;33mConv2D\u001b[0m)               │ (\u001b[38;5;45mNone\u001b[0m, \u001b[38;5;34m45\u001b[0m, \u001b[38;5;34m45\u001b[0m, \u001b[38;5;34m128\u001b[0m)    │        \u001b[38;5;34m73,856\u001b[0m │\n",
              "├─────────────────────────────────┼────────────────────────┼───────────────┤\n",
              "│ max_pooling2d_2 (\u001b[38;5;33mMaxPooling2D\u001b[0m)  │ (\u001b[38;5;45mNone\u001b[0m, \u001b[38;5;34m22\u001b[0m, \u001b[38;5;34m22\u001b[0m, \u001b[38;5;34m128\u001b[0m)    │             \u001b[38;5;34m0\u001b[0m │\n",
              "├─────────────────────────────────┼────────────────────────┼───────────────┤\n",
              "│ global_average_pooling2d        │ (\u001b[38;5;45mNone\u001b[0m, \u001b[38;5;34m128\u001b[0m)            │             \u001b[38;5;34m0\u001b[0m │\n",
              "│ (\u001b[38;5;33mGlobalAveragePooling2D\u001b[0m)        │                        │               │\n",
              "├─────────────────────────────────┼────────────────────────┼───────────────┤\n",
              "│ dense (\u001b[38;5;33mDense\u001b[0m)                   │ (\u001b[38;5;45mNone\u001b[0m, \u001b[38;5;34m128\u001b[0m)            │        \u001b[38;5;34m16,512\u001b[0m │\n",
              "├─────────────────────────────────┼────────────────────────┼───────────────┤\n",
              "│ dropout (\u001b[38;5;33mDropout\u001b[0m)               │ (\u001b[38;5;45mNone\u001b[0m, \u001b[38;5;34m128\u001b[0m)            │             \u001b[38;5;34m0\u001b[0m │\n",
              "├─────────────────────────────────┼────────────────────────┼───────────────┤\n",
              "│ dense_1 (\u001b[38;5;33mDense\u001b[0m)                 │ (\u001b[38;5;45mNone\u001b[0m, \u001b[38;5;34m3\u001b[0m)              │           \u001b[38;5;34m387\u001b[0m │\n",
              "└─────────────────────────────────┴────────────────────────┴───────────────┘\n"
            ]
          },
          "metadata": {},
          "output_type": "display_data"
        },
        {
          "data": {
            "text/html": [
              "<pre style=\"white-space:pre;overflow-x:auto;line-height:normal;font-family:Menlo,'DejaVu Sans Mono',consolas,'Courier New',monospace\"><span style=\"font-weight: bold\"> Total params: </span><span style=\"color: #00af00; text-decoration-color: #00af00\">110,147</span> (430.26 KB)\n",
              "</pre>\n"
            ],
            "text/plain": [
              "\u001b[1m Total params: \u001b[0m\u001b[38;5;34m110,147\u001b[0m (430.26 KB)\n"
            ]
          },
          "metadata": {},
          "output_type": "display_data"
        },
        {
          "data": {
            "text/html": [
              "<pre style=\"white-space:pre;overflow-x:auto;line-height:normal;font-family:Menlo,'DejaVu Sans Mono',consolas,'Courier New',monospace\"><span style=\"font-weight: bold\"> Trainable params: </span><span style=\"color: #00af00; text-decoration-color: #00af00\">110,147</span> (430.26 KB)\n",
              "</pre>\n"
            ],
            "text/plain": [
              "\u001b[1m Trainable params: \u001b[0m\u001b[38;5;34m110,147\u001b[0m (430.26 KB)\n"
            ]
          },
          "metadata": {},
          "output_type": "display_data"
        },
        {
          "data": {
            "text/html": [
              "<pre style=\"white-space:pre;overflow-x:auto;line-height:normal;font-family:Menlo,'DejaVu Sans Mono',consolas,'Courier New',monospace\"><span style=\"font-weight: bold\"> Non-trainable params: </span><span style=\"color: #00af00; text-decoration-color: #00af00\">0</span> (0.00 B)\n",
              "</pre>\n"
            ],
            "text/plain": [
              "\u001b[1m Non-trainable params: \u001b[0m\u001b[38;5;34m0\u001b[0m (0.00 B)\n"
            ]
          },
          "metadata": {},
          "output_type": "display_data"
        }
      ],
      "source": [
        "#menampilkan ringkasan dari model\n",
        "model.summary()"
      ]
    },
    {
      "cell_type": "code",
      "execution_count": 22,
      "metadata": {
        "colab": {
          "base_uri": "https://localhost:8080/"
        },
        "id": "SQyyEnIwUg00",
        "outputId": "077b42bb-216f-44f9-ec38-0d15f0c0c2d5"
      },
      "outputs": [
        {
          "name": "stdout",
          "output_type": "stream",
          "text": [
            "Epoch 1/30\n",
            "\u001b[1m270/270\u001b[0m \u001b[32m━━━━━━━━━━━━━━━━━━━━\u001b[0m\u001b[37m\u001b[0m \u001b[1m6s\u001b[0m 16ms/step - accuracy: 0.4009 - loss: 1.0789 - val_accuracy: 0.6667 - val_loss: 0.8616\n",
            "Epoch 2/30\n",
            "\u001b[1m270/270\u001b[0m \u001b[32m━━━━━━━━━━━━━━━━━━━━\u001b[0m\u001b[37m\u001b[0m \u001b[1m4s\u001b[0m 13ms/step - accuracy: 0.6070 - loss: 0.7803 - val_accuracy: 0.8333 - val_loss: 0.6072\n",
            "Epoch 3/30\n",
            "\u001b[1m270/270\u001b[0m \u001b[32m━━━━━━━━━━━━━━━━━━━━\u001b[0m\u001b[37m\u001b[0m \u001b[1m4s\u001b[0m 13ms/step - accuracy: 0.8044 - loss: 0.5379 - val_accuracy: 0.8000 - val_loss: 0.4557\n",
            "Epoch 4/30\n",
            "\u001b[1m270/270\u001b[0m \u001b[32m━━━━━━━━━━━━━━━━━━━━\u001b[0m\u001b[37m\u001b[0m \u001b[1m4s\u001b[0m 13ms/step - accuracy: 0.8229 - loss: 0.4598 - val_accuracy: 0.7000 - val_loss: 0.5827\n",
            "Epoch 5/30\n",
            "\u001b[1m270/270\u001b[0m \u001b[32m━━━━━━━━━━━━━━━━━━━━\u001b[0m\u001b[37m\u001b[0m \u001b[1m4s\u001b[0m 14ms/step - accuracy: 0.8462 - loss: 0.4207 - val_accuracy: 0.8667 - val_loss: 0.3789\n",
            "Epoch 6/30\n",
            "\u001b[1m270/270\u001b[0m \u001b[32m━━━━━━━━━━━━━━━━━━━━\u001b[0m\u001b[37m\u001b[0m \u001b[1m4s\u001b[0m 14ms/step - accuracy: 0.8523 - loss: 0.3821 - val_accuracy: 0.8667 - val_loss: 0.3653\n",
            "Epoch 7/30\n",
            "\u001b[1m270/270\u001b[0m \u001b[32m━━━━━━━━━━━━━━━━━━━━\u001b[0m\u001b[37m\u001b[0m \u001b[1m4s\u001b[0m 13ms/step - accuracy: 0.8632 - loss: 0.3297 - val_accuracy: 0.9000 - val_loss: 0.3706\n",
            "Epoch 8/30\n",
            "\u001b[1m270/270\u001b[0m \u001b[32m━━━━━━━━━━━━━━━━━━━━\u001b[0m\u001b[37m\u001b[0m \u001b[1m3s\u001b[0m 13ms/step - accuracy: 0.9070 - loss: 0.3043 - val_accuracy: 0.8333 - val_loss: 0.3797\n",
            "Epoch 9/30\n",
            "\u001b[1m270/270\u001b[0m \u001b[32m━━━━━━━━━━━━━━━━━━━━\u001b[0m\u001b[37m\u001b[0m \u001b[1m3s\u001b[0m 13ms/step - accuracy: 0.8602 - loss: 0.3139 - val_accuracy: 0.8667 - val_loss: 0.3325\n",
            "Epoch 10/30\n",
            "\u001b[1m270/270\u001b[0m \u001b[32m━━━━━━━━━━━━━━━━━━━━\u001b[0m\u001b[37m\u001b[0m \u001b[1m3s\u001b[0m 12ms/step - accuracy: 0.9179 - loss: 0.2432 - val_accuracy: 0.8333 - val_loss: 0.3242\n",
            "Epoch 11/30\n",
            "\u001b[1m270/270\u001b[0m \u001b[32m━━━━━━━━━━━━━━━━━━━━\u001b[0m\u001b[37m\u001b[0m \u001b[1m3s\u001b[0m 12ms/step - accuracy: 0.8962 - loss: 0.2748 - val_accuracy: 0.9000 - val_loss: 0.4025\n",
            "Epoch 12/30\n",
            "\u001b[1m270/270\u001b[0m \u001b[32m━━━━━━━━━━━━━━━━━━━━\u001b[0m\u001b[37m\u001b[0m \u001b[1m4s\u001b[0m 13ms/step - accuracy: 0.8867 - loss: 0.2795 - val_accuracy: 0.9000 - val_loss: 0.3107\n",
            "Epoch 13/30\n",
            "\u001b[1m270/270\u001b[0m \u001b[32m━━━━━━━━━━━━━━━━━━━━\u001b[0m\u001b[37m\u001b[0m \u001b[1m3s\u001b[0m 12ms/step - accuracy: 0.9021 - loss: 0.2703 - val_accuracy: 0.9000 - val_loss: 0.2765\n",
            "Epoch 14/30\n",
            "\u001b[1m270/270\u001b[0m \u001b[32m━━━━━━━━━━━━━━━━━━━━\u001b[0m\u001b[37m\u001b[0m \u001b[1m3s\u001b[0m 12ms/step - accuracy: 0.9061 - loss: 0.2418 - val_accuracy: 0.9333 - val_loss: 0.3164\n",
            "Epoch 15/30\n",
            "\u001b[1m270/270\u001b[0m \u001b[32m━━━━━━━━━━━━━━━━━━━━\u001b[0m\u001b[37m\u001b[0m \u001b[1m3s\u001b[0m 13ms/step - accuracy: 0.8984 - loss: 0.2235 - val_accuracy: 0.9333 - val_loss: 0.3450\n",
            "Epoch 16/30\n",
            "\u001b[1m270/270\u001b[0m \u001b[32m━━━━━━━━━━━━━━━━━━━━\u001b[0m\u001b[37m\u001b[0m \u001b[1m3s\u001b[0m 13ms/step - accuracy: 0.9097 - loss: 0.2307 - val_accuracy: 0.9333 - val_loss: 0.2951\n",
            "Epoch 17/30\n",
            "\u001b[1m270/270\u001b[0m \u001b[32m━━━━━━━━━━━━━━━━━━━━\u001b[0m\u001b[37m\u001b[0m \u001b[1m3s\u001b[0m 13ms/step - accuracy: 0.9299 - loss: 0.1932 - val_accuracy: 0.9333 - val_loss: 0.3325\n",
            "Epoch 18/30\n",
            "\u001b[1m270/270\u001b[0m \u001b[32m━━━━━━━━━━━━━━━━━━━━\u001b[0m\u001b[37m\u001b[0m \u001b[1m3s\u001b[0m 12ms/step - accuracy: 0.9512 - loss: 0.1828 - val_accuracy: 0.9333 - val_loss: 0.3010\n",
            "Epoch 19/30\n",
            "\u001b[1m270/270\u001b[0m \u001b[32m━━━━━━━━━━━━━━━━━━━━\u001b[0m\u001b[37m\u001b[0m \u001b[1m3s\u001b[0m 12ms/step - accuracy: 0.9240 - loss: 0.1880 - val_accuracy: 0.9333 - val_loss: 0.3296\n",
            "Epoch 20/30\n",
            "\u001b[1m270/270\u001b[0m \u001b[32m━━━━━━━━━━━━━━━━━━━━\u001b[0m\u001b[37m\u001b[0m \u001b[1m3s\u001b[0m 12ms/step - accuracy: 0.9186 - loss: 0.2246 - val_accuracy: 0.9333 - val_loss: 0.3760\n",
            "Epoch 21/30\n",
            "\u001b[1m270/270\u001b[0m \u001b[32m━━━━━━━━━━━━━━━━━━━━\u001b[0m\u001b[37m\u001b[0m \u001b[1m4s\u001b[0m 13ms/step - accuracy: 0.9290 - loss: 0.1735 - val_accuracy: 0.9000 - val_loss: 0.4044\n"
          ]
        }
      ],
      "source": [
        "#early stopping digunakan untuk menghentikan pelatihan lebih awal jika model tidak ada peningkatan\n",
        "from tensorflow.keras.callbacks import EarlyStopping\n",
        "\n",
        "#Ada fungsi early stopping disini, jangan keskip tuan :D\n",
        "early_stopping = EarlyStopping(monitor='val_accuracy',\n",
        "                               patience=7,\n",
        "                               mode='max')\n",
        "\n",
        "#melatih model menggunakan data latih dan validasi dengan early stopping\n",
        "history= model.fit(train_ds, #data pelatihan yang telah disiapkan\n",
        "                   epochs=30, # jumlah maksimal epoch\n",
        "                   validation_data=val_ds,  #data validasi untuk mengevaluasi model pada setiap epoch\n",
        "                   callbacks=[early_stopping]) #menambahkan early stopping ke dalam callback untuk pelatihan"
      ]
    },
    {
      "cell_type": "code",
      "execution_count": 23,
      "metadata": {
        "colab": {
          "base_uri": "https://localhost:8080/",
          "height": 853
        },
        "id": "ihDMf6KXUg01",
        "outputId": "4ec20a86-9117-4c20-a505-287afef9ead4"
      },
      "outputs": [
        {
          "data": {
            "image/png": "[encoded data removed]",
            "text/plain": [
              "<Figure size 1000x1000 with 2 Axes>"
            ]
          },
          "metadata": {},
          "output_type": "display_data"
        }
      ],
      "source": [
        "#membuat range untuk epoch berdasarkan panjang data loss dari pelatihan\n",
        "ephocs_range = range(1, len(history.history['loss']) + 1)\n",
        "\n",
        "plt.figure(figsize=(10, 10)) #membuat figure dengan ukuran 10x10 untuk menampilkan 2 grafik (Training and Validation Accuracy dan Loss)\n",
        "\n",
        "#grafik pertama (Training and Validation Accuracy)\n",
        "plt.subplot(1, 2, 1) #membuat subplot pertama dalam layout 1 baris dan 2 kolom\n",
        "plt.plot(ephocs_range, history.history['accuracy'], label='Training Accuracy') #plot akurasi pelatihan\n",
        "plt.plot(ephocs_range, history.history['val_accuracy'], label='Validation Accuracy') #plot akurasi validasi\n",
        "plt.legend(loc='lower right') #membuat legenda (informasi elemen visual) di sudut kanan bawah\n",
        "plt.xlim(0, 13) #mengatur batas nilai pada sumbu x dari epoch 1 sampai 13\n",
        "plt.title('Training and Validation Accuracy') #memberi judul grafik\n",
        "\n",
        "#grafik kedua (Training and Validation Loss)\n",
        "plt.subplot(1, 2, 2)\n",
        "plt.plot(ephocs_range, history.history['loss'], label='Training Loss')\n",
        "plt.plot(ephocs_range, history.history['val_loss'], label='Validation Loss')\n",
        "plt.legend(loc='upper right')\n",
        "plt.xlim(0, 13)\n",
        "plt.title('Training and Validation Loss')\n",
        "plt.show()"
      ]
    },
    {
      "cell_type": "code",
      "execution_count": 24,
      "metadata": {
        "colab": {
          "base_uri": "https://localhost:8080/",
          "height": 341
        },
        "id": "91jSuZ97Ug01",
        "outputId": "94f52b39-40eb-495c-ef7b-4d78c3427ccf"
      },
      "outputs": [
        {
          "name": "stderr",
          "output_type": "stream",
          "text": [
            "WARNING:absl:You are saving your model as an HDF5 file via `model.save()` or `keras.saving.save_model(model)`. This file format is considered legacy. We recommend using instead the native Keras format, e.g. `model.save('my_model.keras')` or `keras.saving.save_model(model, 'my_model.keras')`. \n"
          ]
        }
      ],
      "source": [
        "#menyimpan model yang telah dilatih\n",
        "model.save('model_mobilenet_tubes.h5')"
      ]
    },
    {
      "cell_type": "code",
      "execution_count": 25,
      "metadata": {
        "colab": {
          "base_uri": "https://localhost:8080/",
          "height": 341
        },
        "id": "KQne1W6mqbwZ",
        "outputId": "1cad4629-635b-4cd7-bd6b-f033e7a5f020"
      },
      "outputs": [
        {
          "name": "stderr",
          "output_type": "stream",
          "text": [
            "WARNING:absl:The `save_format` argument is deprecated in Keras 3. We recommend removing this argument as it can be inferred from the file path. Received: save_format=h5\n",
            "WARNING:absl:You are saving your model as an HDF5 file via `model.save()` or `keras.saving.save_model(model)`. This file format is considered legacy. We recommend using instead the native Keras format, e.g. `model.save('my_model.keras')` or `keras.saving.save_model(model, 'my_model.keras')`. \n"
          ]
        }
      ],
      "source": [
        "model.save('model_mobilenet_tubes.h5', save_format='h5')\n"
      ]
    },
    {
      "cell_type": "code",
      "execution_count": 26,
      "metadata": {
        "id": "7AUQbZFiUg01"
      },
      "outputs": [
        {
          "name": "stderr",
          "output_type": "stream",
          "text": [
            "WARNING:absl:Compiled the loaded model, but the compiled metrics have yet to be built. `model.compile_metrics` will be empty until you train or evaluate the model.\n"
          ]
        },
        {
          "name": "stdout",
          "output_type": "stream",
          "text": [
            "Terjadi kesalahan: [Errno 2] No such file or directory: 'test_data/Keriting/Keriting-merah.jpg'\n"
          ]
        }
      ],
      "source": [
        "import tensorflow as tf\n",
        "import numpy as np\n",
        "import matplotlib.pyplot as plt\n",
        "from tensorflow.keras.models import load_model\n",
        "from PIL import Image\n",
        "\n",
        "#memuat model yang sudah dilatih\n",
        "model = load_model(r'C:\\Users\\stewa\\Downloads\\TUBES_ML\\model_mobilenet_tubes.h5')  # Ganti dengan path model Anda\n",
        "class_names = ['cabai besar', 'cabai keriting','cabai rawit'] #kelas yang ada pada model\n",
        "\n",
        "#fungsi untuk mengklasifikasikan gambar dan menyimpan gambar asli\n",
        "def classify_images(image_path, save_path='predicted_image.jpg'):\n",
        "    try:\n",
        "        #memuat dan mempersiapkan gambar untuk prediksi\n",
        "        input_image = tf.keras.utils.load_img(image_path, target_size=(180, 180)) #membuat gambar dari path dan mnegubah ukurannya menjadi 180x180 pixel\n",
        "        input_image_array = tf.keras.utils.img_to_array(input_image) #mengubah gambar jadi array numpy agar bisa di proses model\n",
        "        input_image_exp_dim = tf.expand_dims(input_image_array, 0)  #menambahkan dimensi batch agar sesuai dengan input model\n",
        "                                                                    #dimensi menjadi (1, 180, 180, 3)\n",
        "\n",
        "        #melakukan prediksi\n",
        "        predictions = model.predict(input_image_exp_dim) #melakukan prediksi pada gambar yang telah diproses\n",
        "        result = tf.nn.softmax(predictions[0]) #menghitung hasil prediksi menggunakan softmax untuk mendapatkan probabilitas tiap kelas\n",
        "        class_idx = np.argmax(result) #menemukan indeks kelas dengan probabilitas tertinggi\n",
        "        confidence = np.max(result) * 100 #menghitung confidence dalam persentase\n",
        "\n",
        "        #menampilkan hasil prediksi dan confidence\n",
        "        print(f\"Prediksi: {class_names[class_idx]}\") #menampilkan nama kelas yang diprediksi\n",
        "        print(f\"Confidence: {confidence:.2f}%\") #menampilkan nilai confidence\n",
        "\n",
        "        #menyimpan gambar asli tanpa teks\n",
        "        input_image = Image.open(image_path) #membuka gambar yang ada di path\n",
        "        input_image.save(save_path) #menyimpan gambar asli ke dalam path yang telah ditentukan\n",
        "\n",
        "        return f\"Prediksi: {class_names[class_idx]} dengan confidence {confidence:.2f}%. Gambar asli disimpan di {save_path}.\"\n",
        "    except Exception as e:\n",
        "        return f\"Terjadi kesalahan: {e}\"\n",
        "\n",
        "#contoh penggunaan fungsi\n",
        "###Terdapat code yang hilang disini! lihat modul untuk menemukanya\n",
        "result = classify_images(r'test_data/Keriting/Keriting-merah.jpg', save_path='matang.jpg')\n",
        "# result = classify_images(r'test_data/Matang/Mature_Dragon_Original_Data0020.jpg', save_path='matang.jpg')\n",
        "# test_data/Keriting/cabe-keriting-hijau-1-SESA_1-removebg-preview.jpg\n",
        "# test_data/Keriting/cabe-keriting-hijau-1-SESA_1-removebg-preview.webp\n",
        "# C:\\Users\\Asus\\Kuliah\\Semester 5\\PMDPM (Pembelajaran Mesin dan Pembelajaran Mendalam\\1A_UAS\\Gambar\\test_data\n",
        "print(result)"
      ]
    },
    {
      "cell_type": "code",
      "execution_count": 28,
      "metadata": {
        "id": "IxkZj_67Ug01"
      },
      "outputs": [
        {
          "name": "stderr",
          "output_type": "stream",
          "text": [
            "WARNING:absl:Compiled the loaded model, but the compiled metrics have yet to be built. `model.compile_metrics` will be empty until you train or evaluate the model.\n"
          ]
        },
        {
          "name": "stdout",
          "output_type": "stream",
          "text": [
            "Found 30 files belonging to 3 classes.\n",
            "\u001b[1m1/1\u001b[0m \u001b[32m━━━━━━━━━━━━━━━━━━━━\u001b[0m\u001b[37m\u001b[0m \u001b[1m0s\u001b[0m 206ms/step\n"
          ]
        },
        {
          "data": {
            "image/png": "[encoded data removed]",
            "text/plain": [
              "<Figure size 600x500 with 2 Axes>"
            ]
          },
          "metadata": {},
          "output_type": "display_data"
        },
        {
          "name": "stdout",
          "output_type": "stream",
          "text": [
            "Confusion Matrix:\n",
            " [[2 2 6]\n",
            " [5 5 0]\n",
            " [3 3 4]]\n",
            "Akurasi: 0.36666666666666664\n",
            "Presisi: [0.2 0.5 0.4]\n",
            "Recall: [0.2 0.5 0.4]\n",
            "F1 Score: [0.2 0.5 0.4]\n"
          ]
        }
      ],
      "source": [
        "import tensorflow as tf\n",
        "from tensorflow.keras.models import load_model\n",
        "import seaborn as sns\n",
        "import matplotlib.pyplot as plt\n",
        "\n",
        "#memuat model yang telah dilatih sebelumnya\n",
        "mobileNet_model = load_model(r'C:\\Users\\stewa\\Downloads\\TUBES_ML\\model_mobilenet_tubes.h5')#gunakan path masing masing ya\n",
        "\n",
        "#memuat data test yang sebenarnya\n",
        "test_data = tf.keras.preprocessing.image_dataset_from_directory(\n",
        "    r'C:\\Users\\stewa\\Downloads\\UAS\\test_data', #direktori data uji\n",
        "    labels='inferred', #label otomatis dari subfolder yang ada\n",
        "    label_mode='categorical',  #menghasilkan label dalam bentuk one-hot encoding\n",
        "    batch_size=32, #ukuran batch untuk pemrosesan\n",
        "    image_size=(180, 180) #ukuran gambar yang akan diproses\n",
        ")\n",
        "\n",
        "#prediksi model\n",
        "y_pred = mobileNet_model.predict(test_data)\n",
        "y_pred_class = tf.argmax(y_pred, axis=1)  #konversi ke kelas prediksi\n",
        "\n",
        "#ekstrak label sebenarnya dari test_data dan konversi ke bentuk indeks kelas\n",
        "true_labels = [] #menyimpan label asli dalam bentuk indeks\n",
        "for _, labels in test_data:\n",
        "    true_labels.extend(tf.argmax(labels, axis=1).numpy())  #konversi one-hot ke indeks kelas\n",
        "true_labels = tf.convert_to_tensor(true_labels) #mengkonversi list ke tensor untuk perhitungan\n",
        "\n",
        "#membuat confusion matrix untuk evaluasi\n",
        "conf_mat = tf.math.confusion_matrix(true_labels, y_pred_class)\n",
        "\n",
        "#menghitung akurasi berdasarkan confusion matrix\n",
        "accuracy = tf.reduce_sum(tf.linalg.diag_part(conf_mat)) / tf.reduce_sum(conf_mat)\n",
        "\n",
        "#mnghitung presisi dan recall dari confusion matrix\n",
        "precision = tf.linalg.diag_part(conf_mat) / tf.reduce_sum(conf_mat, axis=0)\n",
        "recall = tf.linalg.diag_part(conf_mat) / tf.reduce_sum(conf_mat, axis=1)\n",
        "\n",
        "#menghitung F1 Score\n",
        "f1_score = 2 * (precision * recall) / (precision + recall)\n",
        "\n",
        "#visualisasi Confusion Matrix\n",
        "plt.figure(figsize=(6, 5)) #mengatur ukuran gambar\n",
        "sns.heatmap(conf_mat.numpy(), annot=True, fmt='d', cmap='Blues', #annot=True untuk menampilkan angka di dalam setiap sel matriks\n",
        "                                                                 #fmt='d' untuk menampilkan bilangan bulat tanpa desimal\n",
        "            xticklabels=[\"Mentah\", \"Matang\"], yticklabels=[\"Mentah\", \"Matang\"])\n",
        "plt.title('Confusion Matrix')\n",
        "plt.xlabel('Predicted label')\n",
        "plt.ylabel('True label')\n",
        "plt.show()\n",
        "\n",
        "# Menampilkan hasil\n",
        "print(\"Confusion Matrix:\\n\", conf_mat.numpy())\n",
        "print(\"Akurasi:\", accuracy.numpy())\n",
        "print(\"Presisi:\", precision.numpy())\n",
        "print(\"Recall:\", recall.numpy())\n",
        "print(\"F1 Score:\", f1_score.numpy())\n"
      ]
    },
    {
      "cell_type": "code",
      "execution_count": null,
      "metadata": {
        "id": "ACrKcSXIUg02"
      },
      "outputs": [],
      "source": []
    }
  ],
  "metadata": {
    "colab": {
      "provenance": []
    },
    "kernelspec": {
      "display_name": "base",
      "language": "python",
      "name": "python3"
    },
    "language_info": {
      "codemirror_mode": {
        "name": "ipython",
        "version": 3
      },
      "file_extension": ".py",
      "mimetype": "text/x-python",
      "name": "python",
      "nbconvert_exporter": "python",
      "pygments_lexer": "ipython3",
      "version": "3.12.7"
    }
  },
  "nbformat": 4,
  "nbformat_minor": 0
}
